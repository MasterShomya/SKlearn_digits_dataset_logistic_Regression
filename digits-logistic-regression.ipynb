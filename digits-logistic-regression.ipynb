{
 "cells": [
  {
   "cell_type": "code",
   "execution_count": 1,
   "id": "f9f76ab6",
   "metadata": {
    "_cell_guid": "b1076dfc-b9ad-4769-8c92-a6c4dae69d19",
    "_uuid": "8f2839f25d086af736a60e9eeb907d3b93b6e0e5",
    "execution": {
     "iopub.execute_input": "2025-02-13T04:06:27.545692Z",
     "iopub.status.busy": "2025-02-13T04:06:27.545333Z",
     "iopub.status.idle": "2025-02-13T04:06:28.519230Z",
     "shell.execute_reply": "2025-02-13T04:06:28.517968Z"
    },
    "papermill": {
     "duration": 0.983825,
     "end_time": "2025-02-13T04:06:28.521336",
     "exception": false,
     "start_time": "2025-02-13T04:06:27.537511",
     "status": "completed"
    },
    "tags": []
   },
   "outputs": [
    {
     "name": "stdout",
     "output_type": "stream",
     "text": [
      "/kaggle/input/digits-csv/digits_data.csv\n"
     ]
    }
   ],
   "source": [
    "import numpy as np   \n",
    "import pandas as pd \n",
    "import os\n",
    "for dirname, _, filenames in os.walk('/kaggle/input'):\n",
    "    for filename in filenames:\n",
    "        print(os.path.join(dirname, filename))"
   ]
  },
  {
   "cell_type": "markdown",
   "id": "54111ccf",
   "metadata": {
    "papermill": {
     "duration": 0.005706,
     "end_time": "2025-02-13T04:06:28.533491",
     "exception": false,
     "start_time": "2025-02-13T04:06:28.527785",
     "status": "completed"
    },
    "tags": []
   },
   "source": [
    "# *READING & UNDERSTANDING DATASET*"
   ]
  },
  {
   "cell_type": "code",
   "execution_count": 2,
   "id": "413bed92",
   "metadata": {
    "execution": {
     "iopub.execute_input": "2025-02-13T04:06:28.546773Z",
     "iopub.status.busy": "2025-02-13T04:06:28.546262Z",
     "iopub.status.idle": "2025-02-13T04:06:30.035132Z",
     "shell.execute_reply": "2025-02-13T04:06:30.034308Z"
    },
    "papermill": {
     "duration": 1.497444,
     "end_time": "2025-02-13T04:06:30.036914",
     "exception": false,
     "start_time": "2025-02-13T04:06:28.539470",
     "status": "completed"
    },
    "tags": []
   },
   "outputs": [],
   "source": [
    "from sklearn.datasets import load_digits"
   ]
  },
  {
   "cell_type": "code",
   "execution_count": 3,
   "id": "2bc6f64b",
   "metadata": {
    "execution": {
     "iopub.execute_input": "2025-02-13T04:06:30.051206Z",
     "iopub.status.busy": "2025-02-13T04:06:30.050675Z",
     "iopub.status.idle": "2025-02-13T04:06:30.070096Z",
     "shell.execute_reply": "2025-02-13T04:06:30.069269Z"
    },
    "papermill": {
     "duration": 0.028722,
     "end_time": "2025-02-13T04:06:30.071919",
     "exception": false,
     "start_time": "2025-02-13T04:06:30.043197",
     "status": "completed"
    },
    "tags": []
   },
   "outputs": [],
   "source": [
    "digits = load_digits()"
   ]
  },
  {
   "cell_type": "code",
   "execution_count": 4,
   "id": "172b148e",
   "metadata": {
    "execution": {
     "iopub.execute_input": "2025-02-13T04:06:30.084815Z",
     "iopub.status.busy": "2025-02-13T04:06:30.084463Z",
     "iopub.status.idle": "2025-02-13T04:06:30.090924Z",
     "shell.execute_reply": "2025-02-13T04:06:30.089943Z"
    },
    "papermill": {
     "duration": 0.014767,
     "end_time": "2025-02-13T04:06:30.092649",
     "exception": false,
     "start_time": "2025-02-13T04:06:30.077882",
     "status": "completed"
    },
    "tags": []
   },
   "outputs": [
    {
     "data": {
      "text/plain": [
       "['DESCR', 'data', 'feature_names', 'frame', 'images', 'target', 'target_names']"
      ]
     },
     "execution_count": 4,
     "metadata": {},
     "output_type": "execute_result"
    }
   ],
   "source": [
    "dir (digits)"
   ]
  },
  {
   "cell_type": "code",
   "execution_count": 5,
   "id": "7d5071d9",
   "metadata": {
    "execution": {
     "iopub.execute_input": "2025-02-13T04:06:30.105968Z",
     "iopub.status.busy": "2025-02-13T04:06:30.105533Z",
     "iopub.status.idle": "2025-02-13T04:06:30.111959Z",
     "shell.execute_reply": "2025-02-13T04:06:30.110874Z"
    },
    "papermill": {
     "duration": 0.014845,
     "end_time": "2025-02-13T04:06:30.113557",
     "exception": false,
     "start_time": "2025-02-13T04:06:30.098712",
     "status": "completed"
    },
    "tags": []
   },
   "outputs": [
    {
     "data": {
      "text/plain": [
       "array([ 0.,  0.,  5., 13.,  9.,  1.,  0.,  0.,  0.,  0., 13., 15., 10.,\n",
       "       15.,  5.,  0.,  0.,  3., 15.,  2.,  0., 11.,  8.,  0.,  0.,  4.,\n",
       "       12.,  0.,  0.,  8.,  8.,  0.,  0.,  5.,  8.,  0.,  0.,  9.,  8.,\n",
       "        0.,  0.,  4., 11.,  0.,  1., 12.,  7.,  0.,  0.,  2., 14.,  5.,\n",
       "       10., 12.,  0.,  0.,  0.,  0.,  6., 13., 10.,  0.,  0.,  0.])"
      ]
     },
     "execution_count": 5,
     "metadata": {},
     "output_type": "execute_result"
    }
   ],
   "source": [
    "digits.data[0]"
   ]
  },
  {
   "cell_type": "code",
   "execution_count": 6,
   "id": "e1872566",
   "metadata": {
    "execution": {
     "iopub.execute_input": "2025-02-13T04:06:30.126752Z",
     "iopub.status.busy": "2025-02-13T04:06:30.126403Z",
     "iopub.status.idle": "2025-02-13T04:06:30.131953Z",
     "shell.execute_reply": "2025-02-13T04:06:30.130979Z"
    },
    "papermill": {
     "duration": 0.013878,
     "end_time": "2025-02-13T04:06:30.133604",
     "exception": false,
     "start_time": "2025-02-13T04:06:30.119726",
     "status": "completed"
    },
    "tags": []
   },
   "outputs": [
    {
     "data": {
      "text/plain": [
       "0"
      ]
     },
     "execution_count": 6,
     "metadata": {},
     "output_type": "execute_result"
    }
   ],
   "source": [
    "digits.target[0]"
   ]
  },
  {
   "cell_type": "code",
   "execution_count": 7,
   "id": "214112a6",
   "metadata": {
    "execution": {
     "iopub.execute_input": "2025-02-13T04:06:30.146967Z",
     "iopub.status.busy": "2025-02-13T04:06:30.146646Z",
     "iopub.status.idle": "2025-02-13T04:06:30.542333Z",
     "shell.execute_reply": "2025-02-13T04:06:30.541241Z"
    },
    "papermill": {
     "duration": 0.404159,
     "end_time": "2025-02-13T04:06:30.543968",
     "exception": false,
     "start_time": "2025-02-13T04:06:30.139809",
     "status": "completed"
    },
    "tags": []
   },
   "outputs": [
    {
     "data": {
      "image/png": "[encoded data removed]",
      "text/plain": [
       "<Figure size 480x480 with 1 Axes>"
      ]
     },
     "metadata": {},
     "output_type": "display_data"
    }
   ],
   "source": [
    "import matplotlib.pyplot as plt\n",
    "%matplotlib inline\n",
    "plt.matshow(digits.images[0])\n",
    "plt.gray()"
   ]
  },
  {
   "cell_type": "code",
   "execution_count": 8,
   "id": "ab6fa218",
   "metadata": {
    "execution": {
     "iopub.execute_input": "2025-02-13T04:06:30.558213Z",
     "iopub.status.busy": "2025-02-13T04:06:30.557845Z",
     "iopub.status.idle": "2025-02-13T04:06:30.563972Z",
     "shell.execute_reply": "2025-02-13T04:06:30.562936Z"
    },
    "papermill": {
     "duration": 0.015393,
     "end_time": "2025-02-13T04:06:30.565876",
     "exception": false,
     "start_time": "2025-02-13T04:06:30.550483",
     "status": "completed"
    },
    "tags": []
   },
   "outputs": [
    {
     "data": {
      "text/plain": [
       "array([[ 0.,  0.,  5., ...,  0.,  0.,  0.],\n",
       "       [ 0.,  0.,  0., ..., 10.,  0.,  0.],\n",
       "       [ 0.,  0.,  0., ..., 16.,  9.,  0.],\n",
       "       ...,\n",
       "       [ 0.,  0.,  1., ...,  6.,  0.,  0.],\n",
       "       [ 0.,  0.,  2., ..., 12.,  0.,  0.],\n",
       "       [ 0.,  0., 10., ..., 12.,  1.,  0.]])"
      ]
     },
     "execution_count": 8,
     "metadata": {},
     "output_type": "execute_result"
    }
   ],
   "source": [
    "X = digits.data\n",
    "X"
   ]
  },
  {
   "cell_type": "code",
   "execution_count": 9,
   "id": "5c19f9d9",
   "metadata": {
    "execution": {
     "iopub.execute_input": "2025-02-13T04:06:30.580438Z",
     "iopub.status.busy": "2025-02-13T04:06:30.580063Z",
     "iopub.status.idle": "2025-02-13T04:06:30.586307Z",
     "shell.execute_reply": "2025-02-13T04:06:30.584948Z"
    },
    "papermill": {
     "duration": 0.015702,
     "end_time": "2025-02-13T04:06:30.588254",
     "exception": false,
     "start_time": "2025-02-13T04:06:30.572552",
     "status": "completed"
    },
    "tags": []
   },
   "outputs": [
    {
     "data": {
      "text/plain": [
       "array([0, 1, 2, ..., 8, 9, 8])"
      ]
     },
     "execution_count": 9,
     "metadata": {},
     "output_type": "execute_result"
    }
   ],
   "source": [
    "y = digits.target\n",
    "y"
   ]
  },
  {
   "cell_type": "markdown",
   "id": "d43c4ebc",
   "metadata": {
    "papermill": {
     "duration": 0.00631,
     "end_time": "2025-02-13T04:06:30.601399",
     "exception": false,
     "start_time": "2025-02-13T04:06:30.595089",
     "status": "completed"
    },
    "tags": []
   },
   "source": [
    "# *SPLITTING DATASET*"
   ]
  },
  {
   "cell_type": "code",
   "execution_count": 10,
   "id": "bbc3c5af",
   "metadata": {
    "execution": {
     "iopub.execute_input": "2025-02-13T04:06:30.615969Z",
     "iopub.status.busy": "2025-02-13T04:06:30.615598Z",
     "iopub.status.idle": "2025-02-13T04:06:30.714532Z",
     "shell.execute_reply": "2025-02-13T04:06:30.713430Z"
    },
    "papermill": {
     "duration": 0.108863,
     "end_time": "2025-02-13T04:06:30.716728",
     "exception": false,
     "start_time": "2025-02-13T04:06:30.607865",
     "status": "completed"
    },
    "tags": []
   },
   "outputs": [],
   "source": [
    "from sklearn.model_selection import train_test_split\n",
    "X_train,X_test,y_train,y_test = train_test_split(X,y,test_size=0.2,random_state=42)"
   ]
  },
  {
   "cell_type": "code",
   "execution_count": 11,
   "id": "5303444c",
   "metadata": {
    "execution": {
     "iopub.execute_input": "2025-02-13T04:06:30.731780Z",
     "iopub.status.busy": "2025-02-13T04:06:30.731312Z",
     "iopub.status.idle": "2025-02-13T04:06:30.737596Z",
     "shell.execute_reply": "2025-02-13T04:06:30.736547Z"
    },
    "papermill": {
     "duration": 0.015612,
     "end_time": "2025-02-13T04:06:30.739262",
     "exception": false,
     "start_time": "2025-02-13T04:06:30.723650",
     "status": "completed"
    },
    "tags": []
   },
   "outputs": [
    {
     "data": {
      "text/plain": [
       "array([[ 0.,  0.,  3., ..., 13.,  4.,  0.],\n",
       "       [ 0.,  0.,  9., ...,  3.,  0.,  0.],\n",
       "       [ 0.,  0.,  0., ...,  6.,  0.,  0.],\n",
       "       ...,\n",
       "       [ 0.,  0.,  9., ..., 16.,  2.,  0.],\n",
       "       [ 0.,  0.,  1., ...,  0.,  0.,  0.],\n",
       "       [ 0.,  0.,  1., ...,  1.,  0.,  0.]])"
      ]
     },
     "execution_count": 11,
     "metadata": {},
     "output_type": "execute_result"
    }
   ],
   "source": [
    "X_train"
   ]
  },
  {
   "cell_type": "markdown",
   "id": "b9960380",
   "metadata": {
    "papermill": {
     "duration": 0.0062,
     "end_time": "2025-02-13T04:06:30.752293",
     "exception": false,
     "start_time": "2025-02-13T04:06:30.746093",
     "status": "completed"
    },
    "tags": []
   },
   "source": [
    "# *SCALING THE TRAINING AND TESTING DATA*"
   ]
  },
  {
   "cell_type": "code",
   "execution_count": 12,
   "id": "201a5ea4",
   "metadata": {
    "execution": {
     "iopub.execute_input": "2025-02-13T04:06:30.767154Z",
     "iopub.status.busy": "2025-02-13T04:06:30.766776Z",
     "iopub.status.idle": "2025-02-13T04:06:30.771323Z",
     "shell.execute_reply": "2025-02-13T04:06:30.770218Z"
    },
    "papermill": {
     "duration": 0.01417,
     "end_time": "2025-02-13T04:06:30.773021",
     "exception": false,
     "start_time": "2025-02-13T04:06:30.758851",
     "status": "completed"
    },
    "tags": []
   },
   "outputs": [],
   "source": [
    "from sklearn.preprocessing import StandardScaler\n",
    "scaler = StandardScaler()"
   ]
  },
  {
   "cell_type": "code",
   "execution_count": 13,
   "id": "276efa0f",
   "metadata": {
    "execution": {
     "iopub.execute_input": "2025-02-13T04:06:30.788046Z",
     "iopub.status.busy": "2025-02-13T04:06:30.787712Z",
     "iopub.status.idle": "2025-02-13T04:06:30.804290Z",
     "shell.execute_reply": "2025-02-13T04:06:30.803154Z"
    },
    "papermill": {
     "duration": 0.026174,
     "end_time": "2025-02-13T04:06:30.806237",
     "exception": false,
     "start_time": "2025-02-13T04:06:30.780063",
     "status": "completed"
    },
    "tags": []
   },
   "outputs": [],
   "source": [
    "X_train_scaled = scaler.fit_transform(X_train)"
   ]
  },
  {
   "cell_type": "code",
   "execution_count": 14,
   "id": "5af025fa",
   "metadata": {
    "execution": {
     "iopub.execute_input": "2025-02-13T04:06:30.821117Z",
     "iopub.status.busy": "2025-02-13T04:06:30.820767Z",
     "iopub.status.idle": "2025-02-13T04:06:30.827004Z",
     "shell.execute_reply": "2025-02-13T04:06:30.825962Z"
    },
    "papermill": {
     "duration": 0.015442,
     "end_time": "2025-02-13T04:06:30.828683",
     "exception": false,
     "start_time": "2025-02-13T04:06:30.813241",
     "status": "completed"
    },
    "tags": []
   },
   "outputs": [
    {
     "data": {
      "text/plain": [
       "array([[ 0.        , -0.34169755, -0.46336049, ...,  1.05270303,\n",
       "         0.45952251, -0.19710003],\n",
       "       [ 0.        , -0.34169755,  0.78471641, ..., -0.64451929,\n",
       "        -0.50623083, -0.19710003],\n",
       "       [ 0.        , -0.34169755, -1.08739895, ..., -0.13535259,\n",
       "        -0.50623083, -0.19710003],\n",
       "       ...,\n",
       "       [ 0.        , -0.34169755,  0.78471641, ...,  1.56186972,\n",
       "        -0.02335416, -0.19710003],\n",
       "       [ 0.        , -0.34169755, -0.87938613, ..., -1.15368598,\n",
       "        -0.50623083, -0.19710003],\n",
       "       [ 0.        , -0.34169755, -0.87938613, ..., -0.98396375,\n",
       "        -0.50623083, -0.19710003]])"
      ]
     },
     "execution_count": 14,
     "metadata": {},
     "output_type": "execute_result"
    }
   ],
   "source": [
    "X_train_scaled"
   ]
  },
  {
   "cell_type": "markdown",
   "id": "d058dd0a",
   "metadata": {
    "papermill": {
     "duration": 0.006642,
     "end_time": "2025-02-13T04:06:30.842141",
     "exception": false,
     "start_time": "2025-02-13T04:06:30.835499",
     "status": "completed"
    },
    "tags": []
   },
   "source": [
    "# *TRAINING AND TESTING THE MODEL*"
   ]
  },
  {
   "cell_type": "code",
   "execution_count": 15,
   "id": "31f823b2",
   "metadata": {
    "execution": {
     "iopub.execute_input": "2025-02-13T04:06:30.856936Z",
     "iopub.status.busy": "2025-02-13T04:06:30.856558Z",
     "iopub.status.idle": "2025-02-13T04:06:30.978441Z",
     "shell.execute_reply": "2025-02-13T04:06:30.977213Z"
    },
    "papermill": {
     "duration": 0.131432,
     "end_time": "2025-02-13T04:06:30.980472",
     "exception": false,
     "start_time": "2025-02-13T04:06:30.849040",
     "status": "completed"
    },
    "tags": []
   },
   "outputs": [],
   "source": [
    "from sklearn.linear_model import LogisticRegression"
   ]
  },
  {
   "cell_type": "code",
   "execution_count": 16,
   "id": "f7130e75",
   "metadata": {
    "execution": {
     "iopub.execute_input": "2025-02-13T04:06:30.996012Z",
     "iopub.status.busy": "2025-02-13T04:06:30.995551Z",
     "iopub.status.idle": "2025-02-13T04:06:31.096688Z",
     "shell.execute_reply": "2025-02-13T04:06:31.095507Z"
    },
    "papermill": {
     "duration": 0.11088,
     "end_time": "2025-02-13T04:06:31.098524",
     "exception": false,
     "start_time": "2025-02-13T04:06:30.987644",
     "status": "completed"
    },
    "tags": []
   },
   "outputs": [
    {
     "data": {
      "text/html": [
       "<style>#sk-container-id-1 {color: black;background-color: white;}#sk-container-id-1 pre{padding: 0;}#sk-container-id-1 div.sk-toggleable {background-color: white;}#sk-container-id-1 label.sk-toggleable__label {cursor: pointer;display: block;width: 100%;margin-bottom: 0;padding: 0.3em;box-sizing: border-box;text-align: center;}#sk-container-id-1 label.sk-toggleable__label-arrow:before {content: \"▸\";float: left;margin-right: 0.25em;color: #696969;}#sk-container-id-1 label.sk-toggleable__label-arrow:hover:before {color: black;}#sk-container-id-1 div.sk-estimator:hover label.sk-toggleable__label-arrow:before {color: black;}#sk-container-id-1 div.sk-toggleable__content {max-height: 0;max-width: 0;overflow: hidden;text-align: left;background-color: #f0f8ff;}#sk-container-id-1 div.sk-toggleable__content pre {margin: 0.2em;color: black;border-radius: 0.25em;background-color: #f0f8ff;}#sk-container-id-1 input.sk-toggleable__control:checked~div.sk-toggleable__content {max-height: 200px;max-width: 100%;overflow: auto;}#sk-container-id-1 input.sk-toggleable__control:checked~label.sk-toggleable__label-arrow:before {content: \"▾\";}#sk-container-id-1 div.sk-estimator input.sk-toggleable__control:checked~label.sk-toggleable__label {background-color: #d4ebff;}#sk-container-id-1 div.sk-label input.sk-toggleable__control:checked~label.sk-toggleable__label {background-color: #d4ebff;}#sk-container-id-1 input.sk-hidden--visually {border: 0;clip: rect(1px 1px 1px 1px);clip: rect(1px, 1px, 1px, 1px);height: 1px;margin: -1px;overflow: hidden;padding: 0;position: absolute;width: 1px;}#sk-container-id-1 div.sk-estimator {font-family: monospace;background-color: #f0f8ff;border: 1px dotted black;border-radius: 0.25em;box-sizing: border-box;margin-bottom: 0.5em;}#sk-container-id-1 div.sk-estimator:hover {background-color: #d4ebff;}#sk-container-id-1 div.sk-parallel-item::after {content: \"\";width: 100%;border-bottom: 1px solid gray;flex-grow: 1;}#sk-container-id-1 div.sk-label:hover label.sk-toggleable__label {background-color: #d4ebff;}#sk-container-id-1 div.sk-serial::before {content: \"\";position: absolute;border-left: 1px solid gray;box-sizing: border-box;top: 0;bottom: 0;left: 50%;z-index: 0;}#sk-container-id-1 div.sk-serial {display: flex;flex-direction: column;align-items: center;background-color: white;padding-right: 0.2em;padding-left: 0.2em;position: relative;}#sk-container-id-1 div.sk-item {position: relative;z-index: 1;}#sk-container-id-1 div.sk-parallel {display: flex;align-items: stretch;justify-content: center;background-color: white;position: relative;}#sk-container-id-1 div.sk-item::before, #sk-container-id-1 div.sk-parallel-item::before {content: \"\";position: absolute;border-left: 1px solid gray;box-sizing: border-box;top: 0;bottom: 0;left: 50%;z-index: -1;}#sk-container-id-1 div.sk-parallel-item {display: flex;flex-direction: column;z-index: 1;position: relative;background-color: white;}#sk-container-id-1 div.sk-parallel-item:first-child::after {align-self: flex-end;width: 50%;}#sk-container-id-1 div.sk-parallel-item:last-child::after {align-self: flex-start;width: 50%;}#sk-container-id-1 div.sk-parallel-item:only-child::after {width: 0;}#sk-container-id-1 div.sk-dashed-wrapped {border: 1px dashed gray;margin: 0 0.4em 0.5em 0.4em;box-sizing: border-box;padding-bottom: 0.4em;background-color: white;}#sk-container-id-1 div.sk-label label {font-family: monospace;font-weight: bold;display: inline-block;line-height: 1.2em;}#sk-container-id-1 div.sk-label-container {text-align: center;}#sk-container-id-1 div.sk-container {/* jupyter's `normalize.less` sets `[hidden] { display: none; }` but bootstrap.min.css set `[hidden] { display: none !important; }` so we also need the `!important` here to be able to override the default hidden behavior on the sphinx rendered scikit-learn.org. See: https://github.com/scikit-learn/scikit-learn/issues/21755 */display: inline-block !important;position: relative;}#sk-container-id-1 div.sk-text-repr-fallback {display: none;}</style><div id=\"sk-container-id-1\" class=\"sk-top-container\"><div class=\"sk-text-repr-fallback\"><pre>LogisticRegression()</pre><b>In a Jupyter environment, please rerun this cell to show the HTML representation or trust the notebook. <br />On GitHub, the HTML representation is unable to render, please try loading this page with nbviewer.org.</b></div><div class=\"sk-container\" hidden><div class=\"sk-item\"><div class=\"sk-estimator sk-toggleable\"><input class=\"sk-toggleable__control sk-hidden--visually\" id=\"sk-estimator-id-1\" type=\"checkbox\" checked><label for=\"sk-estimator-id-1\" class=\"sk-toggleable__label sk-toggleable__label-arrow\">LogisticRegression</label><div class=\"sk-toggleable__content\"><pre>LogisticRegression()</pre></div></div></div></div></div>"
      ],
      "text/plain": [
       "LogisticRegression()"
      ]
     },
     "execution_count": 16,
     "metadata": {},
     "output_type": "execute_result"
    }
   ],
   "source": [
    "model = LogisticRegression()\n",
    "model.fit(X_train_scaled,y_train)"
   ]
  },
  {
   "cell_type": "code",
   "execution_count": 17,
   "id": "c6b7b1ee",
   "metadata": {
    "execution": {
     "iopub.execute_input": "2025-02-13T04:06:31.115621Z",
     "iopub.status.busy": "2025-02-13T04:06:31.115254Z",
     "iopub.status.idle": "2025-02-13T04:06:31.120197Z",
     "shell.execute_reply": "2025-02-13T04:06:31.119296Z"
    },
    "papermill": {
     "duration": 0.014748,
     "end_time": "2025-02-13T04:06:31.121861",
     "exception": false,
     "start_time": "2025-02-13T04:06:31.107113",
     "status": "completed"
    },
    "tags": []
   },
   "outputs": [],
   "source": [
    "X_test_scaled = scaler.transform(X_test)"
   ]
  },
  {
   "cell_type": "code",
   "execution_count": 18,
   "id": "d0e40768",
   "metadata": {
    "execution": {
     "iopub.execute_input": "2025-02-13T04:06:31.137603Z",
     "iopub.status.busy": "2025-02-13T04:06:31.137280Z",
     "iopub.status.idle": "2025-02-13T04:06:31.146065Z",
     "shell.execute_reply": "2025-02-13T04:06:31.145016Z"
    },
    "papermill": {
     "duration": 0.018579,
     "end_time": "2025-02-13T04:06:31.147836",
     "exception": false,
     "start_time": "2025-02-13T04:06:31.129257",
     "status": "completed"
    },
    "tags": []
   },
   "outputs": [
    {
     "name": "stdout",
     "output_type": "stream",
     "text": [
      "prediction for first 5 images with its correct answers : \n",
      "prediction for 0 : [6]\n",
      "correct answer for 0 : 6\n",
      "prediction for 1 : [9]\n",
      "correct answer for 1 : 9\n",
      "prediction for 2 : [3]\n",
      "correct answer for 2 : 3\n",
      "prediction for 3 : [7]\n",
      "correct answer for 3 : 7\n",
      "prediction for 4 : [2]\n",
      "correct answer for 4 : 2\n"
     ]
    }
   ],
   "source": [
    "print('prediction for first 5 images with its correct answers : ')\n",
    "for i in range(5):\n",
    "    print(f'prediction for {i} : {model.predict([X_test_scaled[i]])}')\n",
    "    print(f'correct answer for {i} : {y_test[i]}')"
   ]
  },
  {
   "cell_type": "code",
   "execution_count": null,
   "id": "bd6a38db",
   "metadata": {
    "papermill": {
     "duration": 0.006695,
     "end_time": "2025-02-13T04:06:31.162035",
     "exception": false,
     "start_time": "2025-02-13T04:06:31.155340",
     "status": "completed"
    },
    "tags": []
   },
   "outputs": [],
   "source": []
  },
  {
   "cell_type": "code",
   "execution_count": 19,
   "id": "2452dc76",
   "metadata": {
    "execution": {
     "iopub.execute_input": "2025-02-13T04:06:31.177385Z",
     "iopub.status.busy": "2025-02-13T04:06:31.176997Z",
     "iopub.status.idle": "2025-02-13T04:06:31.183800Z",
     "shell.execute_reply": "2025-02-13T04:06:31.182878Z"
    },
    "papermill": {
     "duration": 0.016815,
     "end_time": "2025-02-13T04:06:31.185719",
     "exception": false,
     "start_time": "2025-02-13T04:06:31.168904",
     "status": "completed"
    },
    "tags": []
   },
   "outputs": [
    {
     "data": {
      "text/plain": [
       "array([6, 9, 3, 7, 2, 1, 5, 2, 5, 2, 1, 9, 4, 0, 4, 2, 3, 7, 8, 8, 4, 3,\n",
       "       9, 7, 5, 6, 3, 5, 6, 3, 4, 9, 1, 4, 4, 6, 9, 4, 7, 6, 6, 9, 1, 3,\n",
       "       6, 1, 3, 0, 6, 5, 5, 1, 3, 5, 6, 0, 9, 0, 0, 1, 0, 4, 5, 2, 4, 5,\n",
       "       7, 0, 7, 5, 9, 9, 5, 4, 7, 0, 4, 5, 5, 9, 9, 0, 2, 3, 8, 0, 6, 4,\n",
       "       4, 9, 1, 2, 8, 3, 5, 2, 9, 0, 4, 4, 4, 3, 5, 3, 1, 3, 5, 9, 4, 2,\n",
       "       7, 7, 4, 4, 1, 9, 2, 7, 8, 7, 2, 6, 9, 4, 0, 7, 2, 7, 5, 8, 7, 5,\n",
       "       7, 9, 0, 6, 6, 4, 2, 8, 0, 9, 4, 6, 9, 9, 6, 9, 0, 5, 5, 6, 6, 0,\n",
       "       6, 4, 3, 9, 3, 8, 7, 2, 9, 0, 4, 5, 3, 6, 5, 9, 9, 8, 4, 2, 1, 3,\n",
       "       7, 7, 2, 2, 3, 9, 8, 0, 3, 2, 2, 5, 6, 9, 9, 4, 1, 5, 4, 2, 3, 6,\n",
       "       4, 8, 5, 9, 5, 7, 8, 9, 4, 8, 1, 5, 4, 4, 9, 6, 1, 8, 6, 0, 4, 5,\n",
       "       2, 7, 1, 6, 4, 5, 6, 0, 3, 2, 3, 6, 7, 1, 9, 1, 4, 7, 6, 5, 8, 5,\n",
       "       5, 1, 5, 2, 8, 8, 9, 9, 7, 6, 2, 2, 2, 3, 4, 8, 8, 3, 6, 0, 9, 7,\n",
       "       7, 0, 1, 0, 4, 5, 1, 5, 3, 6, 0, 4, 1, 0, 0, 3, 6, 5, 9, 7, 3, 5,\n",
       "       5, 9, 9, 8, 5, 3, 3, 2, 0, 5, 8, 3, 4, 0, 2, 4, 6, 4, 3, 4, 5, 0,\n",
       "       5, 2, 1, 3, 1, 4, 1, 1, 7, 0, 1, 5, 2, 1, 2, 8, 7, 0, 6, 4, 8, 8,\n",
       "       5, 1, 8, 4, 5, 8, 7, 9, 8, 6, 0, 6, 2, 0, 7, 9, 8, 9, 5, 2, 7, 7,\n",
       "       1, 8, 7, 4, 3, 8, 3, 5])"
      ]
     },
     "execution_count": 19,
     "metadata": {},
     "output_type": "execute_result"
    }
   ],
   "source": [
    "y_pred = model.predict(X_test_scaled)\n",
    "y_pred"
   ]
  },
  {
   "cell_type": "markdown",
   "id": "e74a000c",
   "metadata": {
    "papermill": {
     "duration": 0.006772,
     "end_time": "2025-02-13T04:06:31.200008",
     "exception": false,
     "start_time": "2025-02-13T04:06:31.193236",
     "status": "completed"
    },
    "tags": []
   },
   "source": [
    "# *CONFUSION MATRIX ANALYSIS*"
   ]
  },
  {
   "cell_type": "code",
   "execution_count": 20,
   "id": "48c9ff90",
   "metadata": {
    "execution": {
     "iopub.execute_input": "2025-02-13T04:06:31.215458Z",
     "iopub.status.busy": "2025-02-13T04:06:31.215070Z",
     "iopub.status.idle": "2025-02-13T04:06:31.219273Z",
     "shell.execute_reply": "2025-02-13T04:06:31.218277Z"
    },
    "papermill": {
     "duration": 0.013765,
     "end_time": "2025-02-13T04:06:31.220851",
     "exception": false,
     "start_time": "2025-02-13T04:06:31.207086",
     "status": "completed"
    },
    "tags": []
   },
   "outputs": [],
   "source": [
    "from sklearn.metrics import confusion_matrix"
   ]
  },
  {
   "cell_type": "code",
   "execution_count": 21,
   "id": "f57c853e",
   "metadata": {
    "execution": {
     "iopub.execute_input": "2025-02-13T04:06:31.236438Z",
     "iopub.status.busy": "2025-02-13T04:06:31.236068Z",
     "iopub.status.idle": "2025-02-13T04:06:31.241529Z",
     "shell.execute_reply": "2025-02-13T04:06:31.240692Z"
    },
    "papermill": {
     "duration": 0.015017,
     "end_time": "2025-02-13T04:06:31.243099",
     "exception": false,
     "start_time": "2025-02-13T04:06:31.228082",
     "status": "completed"
    },
    "tags": []
   },
   "outputs": [],
   "source": [
    "cm = confusion_matrix(y_test,y_pred)"
   ]
  },
  {
   "cell_type": "code",
   "execution_count": 22,
   "id": "032a7d34",
   "metadata": {
    "execution": {
     "iopub.execute_input": "2025-02-13T04:06:31.258925Z",
     "iopub.status.busy": "2025-02-13T04:06:31.258575Z",
     "iopub.status.idle": "2025-02-13T04:06:31.767862Z",
     "shell.execute_reply": "2025-02-13T04:06:31.766761Z"
    },
    "papermill": {
     "duration": 0.519329,
     "end_time": "2025-02-13T04:06:31.769778",
     "exception": false,
     "start_time": "2025-02-13T04:06:31.250449",
     "status": "completed"
    },
    "tags": []
   },
   "outputs": [],
   "source": [
    "import seaborn as sns"
   ]
  },
  {
   "cell_type": "code",
   "execution_count": 23,
   "id": "2438f9cb",
   "metadata": {
    "execution": {
     "iopub.execute_input": "2025-02-13T04:06:31.785882Z",
     "iopub.status.busy": "2025-02-13T04:06:31.785401Z",
     "iopub.status.idle": "2025-02-13T04:06:32.472262Z",
     "shell.execute_reply": "2025-02-13T04:06:32.470963Z"
    },
    "papermill": {
     "duration": 0.69691,
     "end_time": "2025-02-13T04:06:32.474364",
     "exception": false,
     "start_time": "2025-02-13T04:06:31.777454",
     "status": "completed"
    },
    "tags": []
   },
   "outputs": [
    {
     "data": {
      "text/plain": [
       "Text(0.5, 23.52222222222222, 'Predicted')"
      ]
     },
     "execution_count": 23,
     "metadata": {},
     "output_type": "execute_result"
    },
    {
     "data": {
      "image/png": "[encoded data removed]",
      "text/plain": [
       "<Figure size 640x480 with 2 Axes>"
      ]
     },
     "metadata": {},
     "output_type": "display_data"
    }
   ],
   "source": [
    "sns.heatmap(cm,annot = True,cmap='coolwarm',linewidths=2)\n",
    "plt.ylabel('Truth')\n",
    "plt.xlabel('Predicted')"
   ]
  },
  {
   "cell_type": "markdown",
   "id": "aeac5640",
   "metadata": {
    "papermill": {
     "duration": 0.007821,
     "end_time": "2025-02-13T04:06:32.490807",
     "exception": false,
     "start_time": "2025-02-13T04:06:32.482986",
     "status": "completed"
    },
    "tags": []
   },
   "source": [
    "# *MODEL'S ACCURACY ON TESTING DATA*"
   ]
  },
  {
   "cell_type": "code",
   "execution_count": 24,
   "id": "af6218a6",
   "metadata": {
    "execution": {
     "iopub.execute_input": "2025-02-13T04:06:32.508684Z",
     "iopub.status.busy": "2025-02-13T04:06:32.508321Z",
     "iopub.status.idle": "2025-02-13T04:06:32.516003Z",
     "shell.execute_reply": "2025-02-13T04:06:32.514966Z"
    },
    "papermill": {
     "duration": 0.018417,
     "end_time": "2025-02-13T04:06:32.517786",
     "exception": false,
     "start_time": "2025-02-13T04:06:32.499369",
     "status": "completed"
    },
    "tags": []
   },
   "outputs": [
    {
     "data": {
      "text/plain": [
       "0.9722222222222222"
      ]
     },
     "execution_count": 24,
     "metadata": {},
     "output_type": "execute_result"
    }
   ],
   "source": [
    "model.score(X_test_scaled,y_test)"
   ]
  }
 ],
 "metadata": {
  "kaggle": {
   "accelerator": "none",
   "dataSources": [
    {
     "datasetId": 4195847,
     "sourceId": 7243755,
     "sourceType": "datasetVersion"
    }
   ],
   "dockerImageVersionId": 30886,
   "isGpuEnabled": false,
   "isInternetEnabled": true,
   "language": "python",
   "sourceType": "notebook"
  },
  "kernelspec": {
   "display_name": "Python 3",
   "language": "python",
   "name": "python3"
  },
  "language_info": {
   "codemirror_mode": {
    "name": "ipython",
    "version": 3
   },
   "file_extension": ".py",
   "mimetype": "text/x-python",
   "name": "python",
   "nbconvert_exporter": "python",
   "pygments_lexer": "ipython3",
   "version": "3.10.12"
  },
  "papermill": {
   "default_parameters": {},
   "duration": 8.530717,
   "end_time": "2025-02-13T04:06:33.246790",
   "environment_variables": {},
   "exception": null,
   "input_path": "__notebook__.ipynb",
   "output_path": "__notebook__.ipynb",
   "parameters": {},
   "start_time": "2025-02-13T04:06:24.716073",
   "version": "2.6.0"
  }
 },
 "nbformat": 4,
 "nbformat_minor": 5
}
